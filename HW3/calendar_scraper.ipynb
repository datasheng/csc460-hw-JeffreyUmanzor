{
 "cells": [
  {
   "cell_type": "code",
   "execution_count": 5,
   "metadata": {},
   "outputs": [],
   "source": [
    "#import libraries\n",
    "import pandas as pd\n",
    "import requests\n",
    "from bs4 import BeautifulSoup\n",
    "from datetime import datetime\n"
   ]
  },
  {
   "cell_type": "code",
   "execution_count": 6,
   "metadata": {},
   "outputs": [],
   "source": [
    "# Set the URL for the CUNY academic calendar\n",
    "url = \"https://www.ccny.cuny.edu/registrar/fall\"\n",
    "response = requests.get(url)\n",
    "soup = BeautifulSoup(response.text, \"html.parser\")\n"
   ]
  },
  {
   "cell_type": "code",
   "execution_count": 7,
   "metadata": {},
   "outputs": [],
   "source": [
    "# Extract table data\n",
    "rows = soup.find_all(\"tr\")\n",
    "data = []\n",
    "\n",
    "#loop through the rows and extract the data\n",
    "for row in rows:\n",
    "    cells = row.find_all(\"td\")\n",
    "    if len(cells) >= 3:\n",
    "        date = cells[0].text.strip()\n",
    "        text = cells[2].text.replace(\"\\n\", \" \").replace(\"\\t\", \" \").strip()\n",
    "\n",
    "        # Handle the date ranges\n",
    "        if \"-\" in date:\n",
    "            # Split the date range into start and end dates\n",
    "            start_date_str, end_date_str = date.split(\"-\")\n",
    "            start_date_str = f\"{start_date_str.strip()}, 2021\" \n",
    "            month = start_date_str.split()[0]\n",
    "            end_date_str = f\"{month} {end_date_str.strip()}, 2021\" \n",
    "            # Convert the date strings to datetime objects\n",
    "            start_date = datetime.strptime(start_date_str, \"%B %d, %Y\")\n",
    "            end_date = datetime.strptime(end_date_str, \"%B %d, %Y\")\n",
    "\n",
    "            # Generate all of the dates in the range and append to data\n",
    "            date_range = pd.date_range(start=start_date, end=end_date)\n",
    "            for single_date in date_range:\n",
    "                day_of_week = single_date.strftime('%A')\n",
    "                data.append({\"Date\": single_date, \"Day of Week\": day_of_week, \"Text\": text})\n",
    "        else:\n",
    "            # Handle single dates\n",
    "            if \"2022\" not in date:\n",
    "                date = f\"{date}, 2021\"\n",
    "            date = date.strip()  \n",
    "            date_obj = datetime.strptime(date, \"%B %d, %Y\")\n",
    "            day_of_week = date_obj.strftime('%A')\n",
    "            data.append({\"Date\": date_obj, \"Day of Week\": day_of_week, \"Text\": text})"
   ]
  }
 ],
 "metadata": {
  "kernelspec": {
   "display_name": "Python 3",
   "language": "python",
   "name": "python3"
  },
  "language_info": {
   "codemirror_mode": {
    "name": "ipython",
    "version": 3
   },
   "file_extension": ".py",
   "mimetype": "text/x-python",
   "name": "python",
   "nbconvert_exporter": "python",
   "pygments_lexer": "ipython3",
   "version": "3.13.0"
  }
 },
 "nbformat": 4,
 "nbformat_minor": 2
}
